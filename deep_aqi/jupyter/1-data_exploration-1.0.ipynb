{
 "cells": [
  {
   "cell_type": "markdown",
   "metadata": {},
   "source": [
    "# Initial data cleaning - Year 2017\n",
    "\n",
    "[Columns explanation](https://aqs.epa.gov/aqsweb/airdata/FileFormats.html#_hourly_data_files)\n",
    "\n",
    "[Data source](https://aqs.epa.gov/aqsweb/airdata/download_files.html#Raw)\n",
    "\n",
    "### Goals:\n",
    "* identify and unimportant columns\n",
    "* shorten data set, find most densly populated states, counties, sites\n",
    "* create unique identifier for each metering site *SiteCode*\n",
    "* save to parquet\n",
    "\n",
    "### TODO:\n",
    "* save WIND to parquet\n",
    "* do the same for TEMP, PRESS, RH_DP and PM2.5 FRM/FEM Mass, PM2.5 non FRM/FEM Mass, PM10 Mass, PM2.5 Speciation, PM10 Speciation "
   ]
  },
  {
   "cell_type": "code",
   "execution_count": 1,
   "metadata": {},
   "outputs": [],
   "source": [
    "from os.path import join, basename, splitext\n",
    "from glob import glob\n",
    "from dask import dataframe as dd\n",
    "from matplotlib import rcParams\n",
    "import pandas as pd\n",
    "import dask\n",
    "\n",
    "\n",
    "from deep_aqi import ROOT\n",
    "\n",
    "\n",
    "pd.set_option('max_columns', 50)\n",
    "pd.set_option('max_rows', 25)"
   ]
  },
  {
   "cell_type": "code",
   "execution_count": 2,
   "metadata": {},
   "outputs": [],
   "source": [
    "RAW_DATA = join(ROOT, 'data', 'raw')\n",
    "INTERIM_DATA = join(ROOT, 'data', 'interim')"
   ]
  },
  {
   "cell_type": "code",
   "execution_count": 3,
   "metadata": {},
   "outputs": [
    {
     "data": {
      "text/plain": [
       "['/home/filip/projects/deep_aqi/deep_aqi/data/raw/hourly_WIND_2017.csv',\n",
       " '/home/filip/projects/deep_aqi/deep_aqi/data/raw/hourly_PRESS_2017.csv',\n",
       " '/home/filip/projects/deep_aqi/deep_aqi/data/raw/hourly_88101_2017.csv',\n",
       " '/home/filip/projects/deep_aqi/deep_aqi/data/raw/hourly_TEMP_2017.csv']"
      ]
     },
     "execution_count": 3,
     "metadata": {},
     "output_type": "execute_result"
    }
   ],
   "source": [
    "files = glob(f'{RAW_DATA}/*.csv', recursive=True)\n",
    "files"
   ]
  },
  {
   "cell_type": "markdown",
   "metadata": {},
   "source": [
    "### WIND"
   ]
  },
  {
   "cell_type": "code",
   "execution_count": 4,
   "metadata": {},
   "outputs": [],
   "source": [
    "# there was some inconsistency with 'Qualifier' column\n",
    "data = dd.read_csv(files[2], dtype={'Qualifier': 'object'})"
   ]
  },
  {
   "cell_type": "code",
   "execution_count": 5,
   "metadata": {},
   "outputs": [
    {
     "name": "stdout",
     "output_type": "stream",
     "text": [
      "<class 'dask.dataframe.core.DataFrame'>\n",
      "Columns: 24 entries, State Code to Date of Last Change\n",
      "dtypes: object(13), float64(4), int64(7)"
     ]
    }
   ],
   "source": [
    "data.info()"
   ]
  },
  {
   "cell_type": "code",
   "execution_count": 6,
   "metadata": {},
   "outputs": [
    {
     "data": {
      "text/html": [
       "<div>\n",
       "<style scoped>\n",
       "    .dataframe tbody tr th:only-of-type {\n",
       "        vertical-align: middle;\n",
       "    }\n",
       "\n",
       "    .dataframe tbody tr th {\n",
       "        vertical-align: top;\n",
       "    }\n",
       "\n",
       "    .dataframe thead th {\n",
       "        text-align: right;\n",
       "    }\n",
       "</style>\n",
       "<table border=\"1\" class=\"dataframe\">\n",
       "  <thead>\n",
       "    <tr style=\"text-align: right;\">\n",
       "      <th></th>\n",
       "      <th>State Code</th>\n",
       "      <th>County Code</th>\n",
       "      <th>Site Num</th>\n",
       "      <th>Parameter Code</th>\n",
       "      <th>POC</th>\n",
       "      <th>Latitude</th>\n",
       "      <th>Longitude</th>\n",
       "      <th>Datum</th>\n",
       "      <th>Parameter Name</th>\n",
       "      <th>Date Local</th>\n",
       "      <th>Time Local</th>\n",
       "      <th>Date GMT</th>\n",
       "      <th>Time GMT</th>\n",
       "      <th>Sample Measurement</th>\n",
       "      <th>Units of Measure</th>\n",
       "      <th>MDL</th>\n",
       "      <th>Uncertainty</th>\n",
       "      <th>Qualifier</th>\n",
       "      <th>Method Type</th>\n",
       "      <th>Method Code</th>\n",
       "      <th>Method Name</th>\n",
       "      <th>State Name</th>\n",
       "      <th>County Name</th>\n",
       "      <th>Date of Last Change</th>\n",
       "    </tr>\n",
       "  </thead>\n",
       "  <tbody>\n",
       "    <tr>\n",
       "      <th>0</th>\n",
       "      <td>1</td>\n",
       "      <td>73</td>\n",
       "      <td>23</td>\n",
       "      <td>88101</td>\n",
       "      <td>3</td>\n",
       "      <td>33.553056</td>\n",
       "      <td>-86.815</td>\n",
       "      <td>WGS84</td>\n",
       "      <td>PM2.5 - Local Conditions</td>\n",
       "      <td>2017-01-01</td>\n",
       "      <td>00:00</td>\n",
       "      <td>2017-01-01</td>\n",
       "      <td>06:00</td>\n",
       "      <td>2.3</td>\n",
       "      <td>Micrograms/cubic meter (LC)</td>\n",
       "      <td>2</td>\n",
       "      <td>NaN</td>\n",
       "      <td>NaN</td>\n",
       "      <td>FEM</td>\n",
       "      <td>183</td>\n",
       "      <td>Thermo Scientific 5014i or FH62C14-DHS w/VSCC ...</td>\n",
       "      <td>Alabama</td>\n",
       "      <td>Jefferson</td>\n",
       "      <td>2017-04-19</td>\n",
       "    </tr>\n",
       "    <tr>\n",
       "      <th>1</th>\n",
       "      <td>1</td>\n",
       "      <td>73</td>\n",
       "      <td>23</td>\n",
       "      <td>88101</td>\n",
       "      <td>3</td>\n",
       "      <td>33.553056</td>\n",
       "      <td>-86.815</td>\n",
       "      <td>WGS84</td>\n",
       "      <td>PM2.5 - Local Conditions</td>\n",
       "      <td>2017-01-01</td>\n",
       "      <td>01:00</td>\n",
       "      <td>2017-01-01</td>\n",
       "      <td>07:00</td>\n",
       "      <td>9.0</td>\n",
       "      <td>Micrograms/cubic meter (LC)</td>\n",
       "      <td>2</td>\n",
       "      <td>NaN</td>\n",
       "      <td>NaN</td>\n",
       "      <td>FEM</td>\n",
       "      <td>183</td>\n",
       "      <td>Thermo Scientific 5014i or FH62C14-DHS w/VSCC ...</td>\n",
       "      <td>Alabama</td>\n",
       "      <td>Jefferson</td>\n",
       "      <td>2017-04-19</td>\n",
       "    </tr>\n",
       "    <tr>\n",
       "      <th>2</th>\n",
       "      <td>1</td>\n",
       "      <td>73</td>\n",
       "      <td>23</td>\n",
       "      <td>88101</td>\n",
       "      <td>3</td>\n",
       "      <td>33.553056</td>\n",
       "      <td>-86.815</td>\n",
       "      <td>WGS84</td>\n",
       "      <td>PM2.5 - Local Conditions</td>\n",
       "      <td>2017-01-01</td>\n",
       "      <td>02:00</td>\n",
       "      <td>2017-01-01</td>\n",
       "      <td>08:00</td>\n",
       "      <td>8.2</td>\n",
       "      <td>Micrograms/cubic meter (LC)</td>\n",
       "      <td>2</td>\n",
       "      <td>NaN</td>\n",
       "      <td>NaN</td>\n",
       "      <td>FEM</td>\n",
       "      <td>183</td>\n",
       "      <td>Thermo Scientific 5014i or FH62C14-DHS w/VSCC ...</td>\n",
       "      <td>Alabama</td>\n",
       "      <td>Jefferson</td>\n",
       "      <td>2017-04-19</td>\n",
       "    </tr>\n",
       "    <tr>\n",
       "      <th>3</th>\n",
       "      <td>1</td>\n",
       "      <td>73</td>\n",
       "      <td>23</td>\n",
       "      <td>88101</td>\n",
       "      <td>3</td>\n",
       "      <td>33.553056</td>\n",
       "      <td>-86.815</td>\n",
       "      <td>WGS84</td>\n",
       "      <td>PM2.5 - Local Conditions</td>\n",
       "      <td>2017-01-01</td>\n",
       "      <td>03:00</td>\n",
       "      <td>2017-01-01</td>\n",
       "      <td>09:00</td>\n",
       "      <td>3.1</td>\n",
       "      <td>Micrograms/cubic meter (LC)</td>\n",
       "      <td>2</td>\n",
       "      <td>NaN</td>\n",
       "      <td>NaN</td>\n",
       "      <td>FEM</td>\n",
       "      <td>183</td>\n",
       "      <td>Thermo Scientific 5014i or FH62C14-DHS w/VSCC ...</td>\n",
       "      <td>Alabama</td>\n",
       "      <td>Jefferson</td>\n",
       "      <td>2017-04-19</td>\n",
       "    </tr>\n",
       "    <tr>\n",
       "      <th>4</th>\n",
       "      <td>1</td>\n",
       "      <td>73</td>\n",
       "      <td>23</td>\n",
       "      <td>88101</td>\n",
       "      <td>3</td>\n",
       "      <td>33.553056</td>\n",
       "      <td>-86.815</td>\n",
       "      <td>WGS84</td>\n",
       "      <td>PM2.5 - Local Conditions</td>\n",
       "      <td>2017-01-01</td>\n",
       "      <td>04:00</td>\n",
       "      <td>2017-01-01</td>\n",
       "      <td>10:00</td>\n",
       "      <td>4.0</td>\n",
       "      <td>Micrograms/cubic meter (LC)</td>\n",
       "      <td>2</td>\n",
       "      <td>NaN</td>\n",
       "      <td>NaN</td>\n",
       "      <td>FEM</td>\n",
       "      <td>183</td>\n",
       "      <td>Thermo Scientific 5014i or FH62C14-DHS w/VSCC ...</td>\n",
       "      <td>Alabama</td>\n",
       "      <td>Jefferson</td>\n",
       "      <td>2017-04-19</td>\n",
       "    </tr>\n",
       "  </tbody>\n",
       "</table>\n",
       "</div>"
      ],
      "text/plain": [
       "   State Code  County Code  Site Num  Parameter Code  POC   Latitude  \\\n",
       "0           1           73        23           88101    3  33.553056   \n",
       "1           1           73        23           88101    3  33.553056   \n",
       "2           1           73        23           88101    3  33.553056   \n",
       "3           1           73        23           88101    3  33.553056   \n",
       "4           1           73        23           88101    3  33.553056   \n",
       "\n",
       "   Longitude  Datum            Parameter Name  Date Local Time Local  \\\n",
       "0    -86.815  WGS84  PM2.5 - Local Conditions  2017-01-01      00:00   \n",
       "1    -86.815  WGS84  PM2.5 - Local Conditions  2017-01-01      01:00   \n",
       "2    -86.815  WGS84  PM2.5 - Local Conditions  2017-01-01      02:00   \n",
       "3    -86.815  WGS84  PM2.5 - Local Conditions  2017-01-01      03:00   \n",
       "4    -86.815  WGS84  PM2.5 - Local Conditions  2017-01-01      04:00   \n",
       "\n",
       "     Date GMT Time GMT  Sample Measurement             Units of Measure  MDL  \\\n",
       "0  2017-01-01    06:00                 2.3  Micrograms/cubic meter (LC)    2   \n",
       "1  2017-01-01    07:00                 9.0  Micrograms/cubic meter (LC)    2   \n",
       "2  2017-01-01    08:00                 8.2  Micrograms/cubic meter (LC)    2   \n",
       "3  2017-01-01    09:00                 3.1  Micrograms/cubic meter (LC)    2   \n",
       "4  2017-01-01    10:00                 4.0  Micrograms/cubic meter (LC)    2   \n",
       "\n",
       "   Uncertainty Qualifier Method Type  Method Code  \\\n",
       "0          NaN       NaN         FEM          183   \n",
       "1          NaN       NaN         FEM          183   \n",
       "2          NaN       NaN         FEM          183   \n",
       "3          NaN       NaN         FEM          183   \n",
       "4          NaN       NaN         FEM          183   \n",
       "\n",
       "                                         Method Name State Name County Name  \\\n",
       "0  Thermo Scientific 5014i or FH62C14-DHS w/VSCC ...    Alabama   Jefferson   \n",
       "1  Thermo Scientific 5014i or FH62C14-DHS w/VSCC ...    Alabama   Jefferson   \n",
       "2  Thermo Scientific 5014i or FH62C14-DHS w/VSCC ...    Alabama   Jefferson   \n",
       "3  Thermo Scientific 5014i or FH62C14-DHS w/VSCC ...    Alabama   Jefferson   \n",
       "4  Thermo Scientific 5014i or FH62C14-DHS w/VSCC ...    Alabama   Jefferson   \n",
       "\n",
       "  Date of Last Change  \n",
       "0          2017-04-19  \n",
       "1          2017-04-19  \n",
       "2          2017-04-19  \n",
       "3          2017-04-19  \n",
       "4          2017-04-19  "
      ]
     },
     "execution_count": 6,
     "metadata": {},
     "output_type": "execute_result"
    }
   ],
   "source": [
    "data.head()"
   ]
  },
  {
   "cell_type": "code",
   "execution_count": 25,
   "metadata": {},
   "outputs": [],
   "source": [
    "# Site Num is unique only within county, SiteCode is unique across all counties and states\n",
    "data['SiteCode'] = data['State Name'] + '_' + data['County Name'] + '_' + data['Site Num'].astype(str)"
   ]
  },
  {
   "cell_type": "code",
   "execution_count": 26,
   "metadata": {},
   "outputs": [],
   "source": [
    "# rcParams['figure.figsize'] = [20, 10]\n",
    "\n",
    "# data['State Name'].value_counts().compute().plot(kind='bar')"
   ]
  },
  {
   "cell_type": "markdown",
   "metadata": {},
   "source": [
    "## Dropping columns\n",
    "[Columns explanation](https://aqs.epa.gov/aqsweb/airdata/FileFormats.html#_hourly_data_files)\n",
    "\n",
    "Columns dropped:\n",
    "* State Code, County Code - same information as in State Name, County Name\n",
    "* State Name, County Name, Site Num - now all concatenated into SiteCode\n",
    "* Parameter Code - same information as in Parameter Name\n",
    "* Datum - seemingly unimportant\n",
    "* MDL - seemingly unimportant\n",
    "* Uncertainty - seemingly unimportant (mostly empty column)\n",
    "* Qualifier - seemingly unimportant (mostly empty column)\n",
    "* Method Type - seemingly unimportant\n",
    "* Method Code - seemingly unimportant\n",
    "* Date of Last Change - unimportant\n",
    "* Date GTM, Time GMT - concatenated into GMTDate, leaving only LocalDate\n",
    "* Date Local, Time Local - concatenated into LocalDate\n",
    "* Longitude, Latitude - if needed I'll get it from source "
   ]
  },
  {
   "cell_type": "code",
   "execution_count": 27,
   "metadata": {},
   "outputs": [],
   "source": [
    "# KEEP_COLS = ['SiteCode', 'State Name', 'County Name', 'Latitude', 'Longitude', 'LocalDate',\n",
    "#              'GMTDate', 'Parameter Name', 'POC', 'Sample Measurement',\n",
    "#              'Units of Measure']\n",
    "\n",
    "# no unessential columns\n",
    "KEEP_COLS = ['SiteCode', 'LocalDate', 'Parameter Name', 'POC', 'Sample Measurement', 'Units of Measure']"
   ]
  },
  {
   "cell_type": "code",
   "execution_count": 28,
   "metadata": {},
   "outputs": [],
   "source": [
    "# site_summary = data.groupby(by=['SiteCode'])['Sample Measurement'].agg('count').compute().sort_values(ascending=False)"
   ]
  },
  {
   "cell_type": "code",
   "execution_count": 29,
   "metadata": {},
   "outputs": [],
   "source": [
    "data['Local Date'] = data['Date Local'] + ' ' + data['Time Local']\n",
    "# data['GMT Date'] = data['Date GMT'] + ' ' + data['Time GMT']\n",
    "\n",
    "data['LocalDate'] = data['Local Date'].map_partitions(pd.to_datetime,\n",
    "                                                      format='%Y/%m/%d %H:%M',\n",
    "                                                      meta=('Local Date'))\n",
    "\n",
    "# data['GMTDate'] = data['GMT Date'].map_partitions(pd.to_datetime,\n",
    "#                                                   format='%Y/%m/%d %H:%M',\n",
    "#                                                   meta=('GMT Date'))"
   ]
  },
  {
   "cell_type": "code",
   "execution_count": 30,
   "metadata": {},
   "outputs": [],
   "source": [
    "data = data[KEEP_COLS]"
   ]
  },
  {
   "cell_type": "markdown",
   "metadata": {},
   "source": [
    "### Explanation for number of occurrences per site\n",
    "\n",
    "There are 8756 hours in a year\n",
    "sites with n ~ 17520 have measurements of both wind speed and wind direction\n",
    "sites with n > 17520 have measurements made by multiple instruments - take average value from all instruments for each hour"
   ]
  },
  {
   "cell_type": "code",
   "execution_count": 9,
   "metadata": {},
   "outputs": [],
   "source": [
    "# index_cols = ['SiteCode', 'State Name', 'County Name', 'Latitude', 'Longitude', 'LocalDate']\n",
    "# index_fields = data[index_cols]"
   ]
  },
  {
   "cell_type": "code",
   "execution_count": 10,
   "metadata": {},
   "outputs": [],
   "source": [
    "# index_fields = index_fields.drop_duplicates(subset='SiteCode')"
   ]
  },
  {
   "cell_type": "code",
   "execution_count": 31,
   "metadata": {},
   "outputs": [],
   "source": [
    "values = data.groupby(by=['SiteCode', 'LocalDate', 'Parameter Name'])['Sample Measurement'].mean()"
   ]
  },
  {
   "cell_type": "code",
   "execution_count": 12,
   "metadata": {},
   "outputs": [
    {
     "data": {
      "text/plain": [
       "SiteCode                LocalDate            Parameter Name            \n",
       "Alabama_Jefferson_2059  2017-01-01 00:00:00  Wind Direction - Resultant    165.0\n",
       "                                             Wind Speed - Resultant          0.3\n",
       "                        2017-01-01 01:00:00  Wind Direction - Resultant    158.0\n",
       "                                             Wind Speed - Resultant          0.2\n",
       "                        2017-01-01 02:00:00  Wind Direction - Resultant    113.0\n",
       "Name: Sample Measurement, dtype: float64"
      ]
     },
     "execution_count": 12,
     "metadata": {},
     "output_type": "execute_result"
    }
   ],
   "source": [
    "values.head()\n"
   ]
  },
  {
   "cell_type": "code",
   "execution_count": 32,
   "metadata": {},
   "outputs": [],
   "source": [
    "values = values.reset_index().compute()"
   ]
  },
  {
   "cell_type": "code",
   "execution_count": 33,
   "metadata": {},
   "outputs": [
    {
     "data": {
      "text/plain": [
       "Index(['SiteCode', 'LocalDate', 'Parameter Name', 'Sample Measurement'], dtype='object')"
      ]
     },
     "execution_count": 33,
     "metadata": {},
     "output_type": "execute_result"
    }
   ],
   "source": [
    "values.columns"
   ]
  },
  {
   "cell_type": "code",
   "execution_count": 34,
   "metadata": {},
   "outputs": [],
   "source": [
    "values = values.pivot_table(values='Sample Measurement',\n",
    "                            index=['SiteCode', 'LocalDate'],\n",
    "                            columns='Parameter Name')"
   ]
  },
  {
   "cell_type": "code",
   "execution_count": 35,
   "metadata": {},
   "outputs": [],
   "source": [
    "values = values.reset_index()"
   ]
  },
  {
   "cell_type": "code",
   "execution_count": 17,
   "metadata": {},
   "outputs": [
    {
     "data": {
      "text/html": [
       "<div>\n",
       "<style scoped>\n",
       "    .dataframe tbody tr th:only-of-type {\n",
       "        vertical-align: middle;\n",
       "    }\n",
       "\n",
       "    .dataframe tbody tr th {\n",
       "        vertical-align: top;\n",
       "    }\n",
       "\n",
       "    .dataframe thead th {\n",
       "        text-align: right;\n",
       "    }\n",
       "</style>\n",
       "<table border=\"1\" class=\"dataframe\">\n",
       "  <thead>\n",
       "    <tr style=\"text-align: right;\">\n",
       "      <th>Parameter Name</th>\n",
       "      <th>SiteCode</th>\n",
       "      <th>LocalDate</th>\n",
       "      <th>Wind Direction - Resultant</th>\n",
       "      <th>Wind Speed - Resultant</th>\n",
       "    </tr>\n",
       "  </thead>\n",
       "  <tbody>\n",
       "    <tr>\n",
       "      <th>0</th>\n",
       "      <td>Alabama_Jefferson_2059</td>\n",
       "      <td>2017-01-01 00:00:00</td>\n",
       "      <td>165.0</td>\n",
       "      <td>0.3</td>\n",
       "    </tr>\n",
       "    <tr>\n",
       "      <th>1</th>\n",
       "      <td>Alabama_Jefferson_2059</td>\n",
       "      <td>2017-01-01 01:00:00</td>\n",
       "      <td>158.0</td>\n",
       "      <td>0.2</td>\n",
       "    </tr>\n",
       "    <tr>\n",
       "      <th>2</th>\n",
       "      <td>Alabama_Jefferson_2059</td>\n",
       "      <td>2017-01-01 02:00:00</td>\n",
       "      <td>113.0</td>\n",
       "      <td>0.4</td>\n",
       "    </tr>\n",
       "    <tr>\n",
       "      <th>3</th>\n",
       "      <td>Alabama_Jefferson_2059</td>\n",
       "      <td>2017-01-01 03:00:00</td>\n",
       "      <td>110.0</td>\n",
       "      <td>0.3</td>\n",
       "    </tr>\n",
       "    <tr>\n",
       "      <th>4</th>\n",
       "      <td>Alabama_Jefferson_2059</td>\n",
       "      <td>2017-01-01 04:00:00</td>\n",
       "      <td>63.0</td>\n",
       "      <td>0.1</td>\n",
       "    </tr>\n",
       "  </tbody>\n",
       "</table>\n",
       "</div>"
      ],
      "text/plain": [
       "Parameter Name                SiteCode           LocalDate  \\\n",
       "0               Alabama_Jefferson_2059 2017-01-01 00:00:00   \n",
       "1               Alabama_Jefferson_2059 2017-01-01 01:00:00   \n",
       "2               Alabama_Jefferson_2059 2017-01-01 02:00:00   \n",
       "3               Alabama_Jefferson_2059 2017-01-01 03:00:00   \n",
       "4               Alabama_Jefferson_2059 2017-01-01 04:00:00   \n",
       "\n",
       "Parameter Name  Wind Direction - Resultant  Wind Speed - Resultant  \n",
       "0                                    165.0                     0.3  \n",
       "1                                    158.0                     0.2  \n",
       "2                                    113.0                     0.4  \n",
       "3                                    110.0                     0.3  \n",
       "4                                     63.0                     0.1  "
      ]
     },
     "execution_count": 17,
     "metadata": {},
     "output_type": "execute_result"
    }
   ],
   "source": [
    "values.head()"
   ]
  },
  {
   "cell_type": "code",
   "execution_count": 18,
   "metadata": {},
   "outputs": [
    {
     "name": "stdout",
     "output_type": "stream",
     "text": [
      "<class 'pandas.core.frame.DataFrame'>\n",
      "RangeIndex: 6201309 entries, 0 to 6201308\n",
      "Data columns (total 4 columns):\n",
      "SiteCode                      object\n",
      "LocalDate                     datetime64[ns]\n",
      "Wind Direction - Resultant    float64\n",
      "Wind Speed - Resultant        float64\n",
      "dtypes: datetime64[ns](1), float64(2), object(1)\n",
      "memory usage: 189.2+ MB\n"
     ]
    }
   ],
   "source": [
    "values.info()"
   ]
  },
  {
   "cell_type": "markdown",
   "metadata": {},
   "source": [
    "## 8765 hours in a year; 90% ~ 7888"
   ]
  },
  {
   "cell_type": "code",
   "execution_count": 36,
   "metadata": {},
   "outputs": [],
   "source": [
    "site_count = values.SiteCode.value_counts()\n",
    "eligible_sites = site_count[site_count > 7888].index"
   ]
  },
  {
   "cell_type": "code",
   "execution_count": 58,
   "metadata": {},
   "outputs": [],
   "source": [
    "values = values.loc[values.SiteCode.isin(eligible_sites), :]\n",
    "values.reset_index(drop=True, inplace=True)"
   ]
  },
  {
   "cell_type": "code",
   "execution_count": 59,
   "metadata": {},
   "outputs": [
    {
     "name": "stdout",
     "output_type": "stream",
     "text": [
      "<class 'pandas.core.frame.DataFrame'>\n",
      "RangeIndex: 5438927 entries, 0 to 5438926\n",
      "Data columns (total 4 columns):\n",
      "SiteCode                      object\n",
      "LocalDate                     datetime64[ns]\n",
      "Wind Direction - Resultant    float64\n",
      "Wind Speed - Resultant        float64\n",
      "dtypes: datetime64[ns](1), float64(2), object(1)\n",
      "memory usage: 166.0+ MB\n"
     ]
    }
   ],
   "source": [
    "values.info()"
   ]
  },
  {
   "cell_type": "code",
   "execution_count": 60,
   "metadata": {},
   "outputs": [
    {
     "data": {
      "text/html": [
       "<div>\n",
       "<style scoped>\n",
       "    .dataframe tbody tr th:only-of-type {\n",
       "        vertical-align: middle;\n",
       "    }\n",
       "\n",
       "    .dataframe tbody tr th {\n",
       "        vertical-align: top;\n",
       "    }\n",
       "\n",
       "    .dataframe thead th {\n",
       "        text-align: right;\n",
       "    }\n",
       "</style>\n",
       "<table border=\"1\" class=\"dataframe\">\n",
       "  <thead>\n",
       "    <tr style=\"text-align: right;\">\n",
       "      <th>Parameter Name</th>\n",
       "      <th>SiteCode</th>\n",
       "      <th>LocalDate</th>\n",
       "      <th>Wind Direction - Resultant</th>\n",
       "      <th>Wind Speed - Resultant</th>\n",
       "    </tr>\n",
       "  </thead>\n",
       "  <tbody>\n",
       "    <tr>\n",
       "      <th>0</th>\n",
       "      <td>Alabama_Jefferson_2059</td>\n",
       "      <td>2017-01-01 00:00:00</td>\n",
       "      <td>165.0</td>\n",
       "      <td>0.3</td>\n",
       "    </tr>\n",
       "    <tr>\n",
       "      <th>1</th>\n",
       "      <td>Alabama_Jefferson_2059</td>\n",
       "      <td>2017-01-01 01:00:00</td>\n",
       "      <td>158.0</td>\n",
       "      <td>0.2</td>\n",
       "    </tr>\n",
       "    <tr>\n",
       "      <th>2</th>\n",
       "      <td>Alabama_Jefferson_2059</td>\n",
       "      <td>2017-01-01 02:00:00</td>\n",
       "      <td>113.0</td>\n",
       "      <td>0.4</td>\n",
       "    </tr>\n",
       "    <tr>\n",
       "      <th>3</th>\n",
       "      <td>Alabama_Jefferson_2059</td>\n",
       "      <td>2017-01-01 03:00:00</td>\n",
       "      <td>110.0</td>\n",
       "      <td>0.3</td>\n",
       "    </tr>\n",
       "    <tr>\n",
       "      <th>4</th>\n",
       "      <td>Alabama_Jefferson_2059</td>\n",
       "      <td>2017-01-01 04:00:00</td>\n",
       "      <td>63.0</td>\n",
       "      <td>0.1</td>\n",
       "    </tr>\n",
       "    <tr>\n",
       "      <th>5</th>\n",
       "      <td>Alabama_Jefferson_2059</td>\n",
       "      <td>2017-01-01 05:00:00</td>\n",
       "      <td>86.0</td>\n",
       "      <td>0.3</td>\n",
       "    </tr>\n",
       "    <tr>\n",
       "      <th>6</th>\n",
       "      <td>Alabama_Jefferson_2059</td>\n",
       "      <td>2017-01-01 06:00:00</td>\n",
       "      <td>57.0</td>\n",
       "      <td>0.5</td>\n",
       "    </tr>\n",
       "    <tr>\n",
       "      <th>7</th>\n",
       "      <td>Alabama_Jefferson_2059</td>\n",
       "      <td>2017-01-01 07:00:00</td>\n",
       "      <td>63.0</td>\n",
       "      <td>0.6</td>\n",
       "    </tr>\n",
       "    <tr>\n",
       "      <th>8</th>\n",
       "      <td>Alabama_Jefferson_2059</td>\n",
       "      <td>2017-01-01 08:00:00</td>\n",
       "      <td>62.0</td>\n",
       "      <td>0.4</td>\n",
       "    </tr>\n",
       "    <tr>\n",
       "      <th>9</th>\n",
       "      <td>Alabama_Jefferson_2059</td>\n",
       "      <td>2017-01-01 09:00:00</td>\n",
       "      <td>79.0</td>\n",
       "      <td>0.6</td>\n",
       "    </tr>\n",
       "  </tbody>\n",
       "</table>\n",
       "</div>"
      ],
      "text/plain": [
       "Parameter Name                SiteCode           LocalDate  \\\n",
       "0               Alabama_Jefferson_2059 2017-01-01 00:00:00   \n",
       "1               Alabama_Jefferson_2059 2017-01-01 01:00:00   \n",
       "2               Alabama_Jefferson_2059 2017-01-01 02:00:00   \n",
       "3               Alabama_Jefferson_2059 2017-01-01 03:00:00   \n",
       "4               Alabama_Jefferson_2059 2017-01-01 04:00:00   \n",
       "5               Alabama_Jefferson_2059 2017-01-01 05:00:00   \n",
       "6               Alabama_Jefferson_2059 2017-01-01 06:00:00   \n",
       "7               Alabama_Jefferson_2059 2017-01-01 07:00:00   \n",
       "8               Alabama_Jefferson_2059 2017-01-01 08:00:00   \n",
       "9               Alabama_Jefferson_2059 2017-01-01 09:00:00   \n",
       "\n",
       "Parameter Name  Wind Direction - Resultant  Wind Speed - Resultant  \n",
       "0                                    165.0                     0.3  \n",
       "1                                    158.0                     0.2  \n",
       "2                                    113.0                     0.4  \n",
       "3                                    110.0                     0.3  \n",
       "4                                     63.0                     0.1  \n",
       "5                                     86.0                     0.3  \n",
       "6                                     57.0                     0.5  \n",
       "7                                     63.0                     0.6  \n",
       "8                                     62.0                     0.4  \n",
       "9                                     79.0                     0.6  "
      ]
     },
     "execution_count": 60,
     "metadata": {},
     "output_type": "execute_result"
    }
   ],
   "source": [
    "values.head(10)"
   ]
  },
  {
   "cell_type": "code",
   "execution_count": 61,
   "metadata": {},
   "outputs": [],
   "source": [
    "filename = f'{splitext(basename(files[0]))[0]}.parquet'\n",
    "save_path = join(INTERIM_DATA, filename)"
   ]
  },
  {
   "cell_type": "code",
   "execution_count": 62,
   "metadata": {},
   "outputs": [],
   "source": [
    "# values.to_parquet(save_path, engine='fastparquet', compression='SNAPPY')"
   ]
  },
  {
   "cell_type": "code",
   "execution_count": null,
   "metadata": {},
   "outputs": [],
   "source": []
  }
 ],
 "metadata": {
  "kernelspec": {
   "display_name": "deep_aqi",
   "language": "python",
   "name": "deep_aqi"
  },
  "language_info": {
   "codemirror_mode": {
    "name": "ipython",
    "version": 3
   },
   "file_extension": ".py",
   "mimetype": "text/x-python",
   "name": "python",
   "nbconvert_exporter": "python",
   "pygments_lexer": "ipython3",
   "version": "3.6.6"
  }
 },
 "nbformat": 4,
 "nbformat_minor": 2
}
