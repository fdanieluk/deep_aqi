{
 "cells": [
  {
   "cell_type": "markdown",
   "metadata": {},
   "source": [
    "GOAL:\n",
    "    \n",
    "Prepare function to merge tables together"
   ]
  },
  {
   "cell_type": "code",
   "execution_count": 16,
   "metadata": {},
   "outputs": [],
   "source": [
    "from os.path import join, basename, splitext\n",
    "from glob import glob\n",
    "from dask import dataframe as dd\n",
    "from dask import array as da\n",
    "import dask\n",
    "from matplotlib import rcParams\n",
    "import pandas as pd\n",
    "import dask\n",
    "from collections import Counter\n",
    "import pickle\n",
    "import re\n",
    "\n",
    "\n",
    "from deep_aqi import ROOT\n",
    "\n",
    "\n",
    "pd.set_option('max_columns', 50)\n",
    "pd.set_option('max_rows', 25)"
   ]
  },
  {
   "cell_type": "code",
   "execution_count": 17,
   "metadata": {},
   "outputs": [],
   "source": [
    "INTERIM_DATA = join(ROOT, 'data', 'interim')\n",
    "PROCESSED_DATA = join(ROOT, 'data', 'processed')"
   ]
  },
  {
   "cell_type": "code",
   "execution_count": 15,
   "metadata": {},
   "outputs": [
    {
     "name": "stdout",
     "output_type": "stream",
     "text": [
      "WIND\n",
      "TEMP\n",
      "PRESS\n",
      "RH_DP\n",
      "42101\n",
      "88502\n",
      "42602\n",
      "44201\n",
      "SPEC\n",
      "88101\n",
      "81102\n",
      "42401\n"
     ]
    }
   ],
   "source": [
    "params = ['WIND', 'TEMP', 'PRESS', 'RH_DP', '42101', '88502', '42602', '44201', 'SPEC', '88101', '81102', '42401']\n",
    "\n",
    "for param in params:\n",
    "    print(param)\n",
    "    files = glob(f'{INTERIM_DATA}/**.parquet', recursive=True)\n",
    "    files = [file for file in files  if re.search(f'hourly_({param})', file)]\n",
    "    tables = [dd.read_parquet(file) for file in files]\n",
    "    df = dd.concat(tables)\n",
    "    save_path = join(PROCESSED_DATA, f'{param}.parquet')\n",
    "    df.to_parquet(save_path, engine='fastparquet', compression='SNAPPY')"
   ]
  },
  {
   "cell_type": "code",
   "execution_count": 11,
   "metadata": {},
   "outputs": [
    {
     "data": {
      "text/plain": [
       "8"
      ]
     },
     "execution_count": 11,
     "metadata": {},
     "output_type": "execute_result"
    }
   ],
   "source": [
    "len(files)"
   ]
  },
  {
   "cell_type": "code",
   "execution_count": 22,
   "metadata": {},
   "outputs": [],
   "source": [
    "wind_path = join(PROCESSED_DATA, 'WIND.parquet')\n",
    "temp_path = join(PROCESSED_DATA, 'TEMP.parquet')\n",
    "press_path = join(PROCESSED_DATA, 'PRESS.parquet')\n",
    "rhdp_path = join(PROCESSED_DATA, 'RH_DP.parquet')\n",
    "\n",
    "wind = dd.read_parquet(wind_path)\n",
    "temp = dd.read_parquet(temp_path)\n",
    "press = dd.read_parquet(press_path)\n",
    "rhdp = dd.read_parquet(rhdp_path)"
   ]
  },
  {
   "cell_type": "code",
   "execution_count": 32,
   "metadata": {},
   "outputs": [],
   "source": [
    "weather = dd.merge(wind, temp, on=['SiteCode', 'LocalDate'])\n",
    "weather = dd.merge(weather, press, on=['SiteCode', 'LocalDate'])\n",
    "weather = dd.merge(weather, rhdp, on=['SiteCode', 'LocalDate'])"
   ]
  },
  {
   "cell_type": "code",
   "execution_count": 37,
   "metadata": {},
   "outputs": [],
   "source": [
    "path_42101 = join(PROCESSED_DATA, '42101.parquet')\n",
    "_42101 = dd.read_parquet(path_42101)"
   ]
  },
  {
   "cell_type": "code",
   "execution_count": 40,
   "metadata": {},
   "outputs": [],
   "source": [
    "CO_42101 = dd.merge(weather, _42101, on=['SiteCode', 'LocalDate'], how='right')"
   ]
  },
  {
   "cell_type": "code",
   "execution_count": null,
   "metadata": {},
   "outputs": [],
   "source": [
    "def create_dataset(param_name, weather_file=weather):\n",
    "    file_path = join(PROCESSED_DATA, f'{param_name}')\n",
    "    df = dd.read_parquet(file_path)\n",
    "    merged = dd.merge(weather_file, df, on=['SiteCode', 'LocalDate'], how='right')\n",
    "    return merged"
   ]
  }
 ],
 "metadata": {
  "kernelspec": {
   "display_name": "Python 3",
   "language": "python",
   "name": "python3"
  },
  "language_info": {
   "codemirror_mode": {
    "name": "ipython",
    "version": 3
   },
   "file_extension": ".py",
   "mimetype": "text/x-python",
   "name": "python",
   "nbconvert_exporter": "python",
   "pygments_lexer": "ipython3",
   "version": "3.7.1"
  }
 },
 "nbformat": 4,
 "nbformat_minor": 2
}
