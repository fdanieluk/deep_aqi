{
 "cells": [
  {
   "cell_type": "markdown",
   "metadata": {},
   "source": [
    "# Data overview\n",
    "\n",
    "### Goals:\n",
    "\n",
    "### TODO:\n"
   ]
  },
  {
   "cell_type": "code",
   "execution_count": 46,
   "metadata": {},
   "outputs": [],
   "source": [
    "from os.path import join, basename, splitext\n",
    "from glob import glob\n",
    "from dask import dataframe as dd\n",
    "from matplotlib import rcParams\n",
    "import pandas as pd\n",
    "import dask\n",
    "\n",
    "\n",
    "from deep_aqi import ROOT\n",
    "\n",
    "\n",
    "pd.set_option('max_columns', 50)\n",
    "pd.set_option('max_rows', 25)"
   ]
  },
  {
   "cell_type": "code",
   "execution_count": 2,
   "metadata": {},
   "outputs": [],
   "source": [
    "RAW_DATA = join(ROOT, 'data', 'raw')\n",
    "INTERIM_DATA = join(ROOT, 'data', 'interim')"
   ]
  },
  {
   "cell_type": "code",
   "execution_count": 3,
   "metadata": {},
   "outputs": [
    {
     "data": {
      "text/plain": [
       "['/home/filip/projects/deep_aqi/deep_aqi/data/raw/hourly_WIND_2017.csv',\n",
       " '/home/filip/projects/deep_aqi/deep_aqi/data/raw/hourly_PRESS_2017.csv',\n",
       " '/home/filip/projects/deep_aqi/deep_aqi/data/raw/hourly_88101_2017.csv',\n",
       " '/home/filip/projects/deep_aqi/deep_aqi/data/raw/hourly_TEMP_2017.csv']"
      ]
     },
     "execution_count": 3,
     "metadata": {},
     "output_type": "execute_result"
    }
   ],
   "source": [
    "files = glob(f'{RAW_DATA}/*.csv', recursive=True)\n",
    "files"
   ]
  }
 ],
 "metadata": {
  "kernelspec": {
   "display_name": "deep_aqi",
   "language": "python",
   "name": "deep_aqi"
  },
  "language_info": {
   "codemirror_mode": {
    "name": "ipython",
    "version": 3
   },
   "file_extension": ".py",
   "mimetype": "text/x-python",
   "name": "python",
   "nbconvert_exporter": "python",
   "pygments_lexer": "ipython3",
   "version": "3.6.6"
  }
 },
 "nbformat": 4,
 "nbformat_minor": 2
}
