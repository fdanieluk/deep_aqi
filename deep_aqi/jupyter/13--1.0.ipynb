{
 "cells": [
  {
   "cell_type": "code",
   "execution_count": 1,
   "metadata": {},
   "outputs": [],
   "source": [
    "from os.path import join, basename, splitext\n",
    "from glob import glob\n",
    "import pickle\n",
    "\n",
    "import numpy as np\n",
    "import pandas as pd\n",
    "\n",
    "import seaborn as sns\n",
    "import matplotlib.pyplot as plt\n",
    "from matplotlib import rcParams\n",
    "from sklearn.metrics import mean_absolute_error, mean_squared_error\n",
    "from matplotlib.ticker import FuncFormatter\n",
    "from sklearn.preprocessing import MinMaxScaler\n",
    "\n",
    "\n",
    "from deep_aqi import ROOT\n",
    "\n",
    "pd.set_option('expand_frame_repr', False)\n",
    "plt.style.use('ggplot')"
   ]
  },
  {
   "cell_type": "code",
   "execution_count": 2,
   "metadata": {},
   "outputs": [],
   "source": [
    "def MAPE(data):\n",
    "    data = data[data['True'] > 0]\n",
    "    return np.mean(np.abs(data['True'] - data.Pred) / data['True'])\n",
    "\n",
    "def MdAPE(data):\n",
    "    data = data[data['True'] > 0]\n",
    "    return np.median(np.abs(data['True'] - data.Pred) / data['True'])"
   ]
  },
  {
   "cell_type": "code",
   "execution_count": 3,
   "metadata": {},
   "outputs": [],
   "source": [
    "def calc_results(Y):\n",
    "    y_test, y_pred = Y['True'], Y['Pred']\n",
    "    \n",
    "    mae = mean_absolute_error(y_test, y_pred)\n",
    "    mse = mean_squared_error(y_test, y_pred)\n",
    "    mape = MAPE(Y)\n",
    "    mdape = MdAPE(Y)\n",
    "    \n",
    "    return {'MAE': mae, 'MSE': mse, 'MAPE': mape, 'MdAPE': mdape}"
   ]
  },
  {
   "cell_type": "code",
   "execution_count": 4,
   "metadata": {},
   "outputs": [],
   "source": [
    "RESULT_DATA = join(ROOT, 'jupyter', 'results')\n",
    "PLOT_DIR = join(ROOT, 'jupyter', 'plots')"
   ]
  },
  {
   "cell_type": "markdown",
   "metadata": {},
   "source": [
    "# Results analysis"
   ]
  },
  {
   "cell_type": "code",
   "execution_count": 5,
   "metadata": {},
   "outputs": [],
   "source": [
    "# file_path = join(PROCESSED_DATA, '88101.parquet') # PM2.5 FRM/FEM Mass\n",
    "# file_path = join(PROCESSED_DATA, '88502.parquet') # PM2.5 non FRM/FEM Mass\n",
    "# file_path = join(PROCESSED_DATA, '81102.parquet') # PM10 Mass\n",
    "# file_path = join(PROCESSED_DATA, '44201.parquet') # Ozone\n",
    "# file_path = join(PROCESSED_DATA, '42401.parquet') # SO2\n",
    "# file_path = join(PROCESSED_DATA, '42101.parquet') # CO\n",
    "# file_path = join(PROCESSED_DATA, '42602.parquet') # NO2"
   ]
  },
  {
   "cell_type": "code",
   "execution_count": 45,
   "metadata": {},
   "outputs": [],
   "source": [
    "parameter_name = 42602"
   ]
  },
  {
   "cell_type": "code",
   "execution_count": 46,
   "metadata": {},
   "outputs": [],
   "source": [
    "best_sites = {88101: 'Vermont_Rutland_2.0',\n",
    "              88502: 'Virginia_Madison_3.0',\n",
    "              81102: 'Wyoming_Sweetwater_200.0',\n",
    "              44201: 'Wyoming_Fremont_99.0',\n",
    "              42401: 'Nevada_Clark_540.0',\n",
    "              42101: 'Louisiana_East Baton Rouge_9.0',\n",
    "              42602: 'Maryland_Garrett_2.0',}\n",
    "\n",
    "best_site = best_sites[parameter_name]"
   ]
  },
  {
   "cell_type": "code",
   "execution_count": 8,
   "metadata": {},
   "outputs": [],
   "source": [
    "# file_name = f'gradient_boosting_random__{parameter_name}__Results__'\n",
    "# file_path = join(ROOT, 'jupyter', 'results', file_name)\n",
    "\n",
    "# with open(file_path, 'rb') as f:\n",
    "#     results = pickle.Unpickler(f).load() "
   ]
  },
  {
   "cell_type": "code",
   "execution_count": 9,
   "metadata": {},
   "outputs": [],
   "source": [
    "# results_ = results.sort_values('MAPE').loc[:, ['MAE', 'MSE', 'MAPE', 'MdAPE']]\n",
    "# results_ = results_.iloc[[0, 1, 2, -3, -2, -1], :]\n",
    "\n",
    "# results_.MAPE = (results_.MAPE * 100).round(2).astype(str).apply(lambda x: x + '%')\n",
    "# results_.MdAPE = (results_.MdAPE * 100).round(2).astype(str).apply(lambda x: x + '%')\n",
    "\n",
    "# print(results_)"
   ]
  },
  {
   "cell_type": "code",
   "execution_count": 10,
   "metadata": {},
   "outputs": [],
   "source": [
    "# print(results_.to_latex())"
   ]
  },
  {
   "cell_type": "code",
   "execution_count": 11,
   "metadata": {},
   "outputs": [],
   "source": [
    "# rcParams[\"figure.figsize\"] = (12, 7)\n",
    "# rcParams[\"font.size\"] = (11)\n",
    "\n",
    "\n",
    "# def plot_hist(param):\n",
    "#     return sns.distplot(results[param], kde=True, norm_hist=True)\n",
    "\n",
    "# # plt.suptitle('Validation metrics distributions', fontsize=20)\n",
    "\n",
    "# plt.subplot(221).xaxis.set_major_formatter(FuncFormatter(lambda x, _: '{:.3f}'.format(x))) \n",
    "# plot_hist('MAE')\n",
    "# plt.xlabel(\"Mean Absolute Error\")\n",
    "# plt.ylabel(\"Kernel Density Est.\")\n",
    "\n",
    "# plt.subplot(222).xaxis.set_major_formatter(FuncFormatter(lambda x, _: '{:.3f}'.format(x)))  \n",
    "# plot_hist('MSE')\n",
    "# plt.xlabel(\"Mean Squared Error\")\n",
    "# plt.ylabel(\"Kernel Density Est.\")            \n",
    "    \n",
    "# plt.subplot(223).xaxis.set_major_formatter(FuncFormatter(lambda x, _: '{:.0%}'.format(x))) \n",
    "# plot_hist('MAPE')\n",
    "# plt.xlabel(\"Mean Absolute Percentage Error\")\n",
    "# plt.ylabel(\"Kernel Density Est.\")\n",
    "\n",
    "# plt.subplot(224).xaxis.set_major_formatter(FuncFormatter(lambda x, _: '{:.0%}'.format(x))) \n",
    "# plot_hist('MdAPE')\n",
    "# plt.xlabel(\"Median Absolute Percentage Error\")\n",
    "# plt.ylabel(\"Kernel Density Est.\")\n",
    "\n",
    "# save_path = join(PLOT_DIR, f'metrics_distribution__{parameter_name}.png')\n",
    "# plt.savefig(save_path, bbox_inches='tight')"
   ]
  },
  {
   "cell_type": "code",
   "execution_count": 12,
   "metadata": {},
   "outputs": [],
   "source": [
    "# file_name = f'gradient_boosting_random__{parameter_name}__Data__'\n",
    "# file_path = join(ROOT, 'jupyter', 'results', file_name)\n",
    "\n",
    "# with open(file_path, 'rb') as f:\n",
    "#     data = pickle.Unpickler(f).load() "
   ]
  },
  {
   "cell_type": "code",
   "execution_count": 13,
   "metadata": {},
   "outputs": [],
   "source": [
    "# naive_vals, naive_tests = [], []\n",
    "# for key in data.keys():\n",
    "#     temp = data[key]\n",
    "    \n",
    "#     _, _, X_test, y_test, X_test_, y_test_ = temp\n",
    "#     the_column = [column for column in X_test.columns if '-24h' in column and column not in ['max-24h', 'mean-24h', 'min-24h', 'std-24h', 'sum-24h']][0]\n",
    "\n",
    "#     y_test = y_test.set_index('LocalDate')\n",
    "#     X_test = pd.DataFrame(X_test[the_column])\n",
    "    \n",
    "#     X_test[the_column] = MinMaxScaler().fit_transform(X_test.values.reshape(-1, 1))\n",
    "\n",
    "#     naive_val = pd.merge(y_test, X_test, right_index=True, left_index=True)\n",
    "#     naive_val['SiteCode'] = key\n",
    "#     naive_vals.append(naive_val)\n",
    "    \n",
    "    \n",
    "    \n",
    "#     y_test_ = y_test_.set_index('LocalDate')\n",
    "#     X_test_ = pd.DataFrame(X_test_[the_column])\n",
    "    \n",
    "#     X_test_[the_column] = MinMaxScaler().fit_transform(X_test_.values.reshape(-1, 1))\n",
    "\n",
    "#     naive_test = pd.merge(y_test_, X_test_, right_index=True, left_index=True)   \n",
    "#     naive_test['SiteCode'] = key\n",
    "\n",
    "#     naive_tests.append(naive_test)\n",
    "\n",
    "    \n",
    "# validation_baseline, test_baseline = pd.concat(naive_vals), pd.concat(naive_tests)\n",
    "\n",
    "# validation_baseline.rename(columns={the_column: 'Pred'}, inplace=True)\n",
    "# test_baseline.rename(columns={the_column: 'Pred'}, inplace=True)"
   ]
  },
  {
   "cell_type": "code",
   "execution_count": 14,
   "metadata": {},
   "outputs": [],
   "source": [
    "# base_results = []\n",
    "\n",
    "# for site_code, table in validation_baseline.groupby('SiteCode'):\n",
    "#     mae = mean_absolute_error(table['True'], table.Pred)\n",
    "#     mse = mean_squared_error(table['True'], table.Pred)\n",
    "#     mape = MAPE(table)\n",
    "#     mdape = MdAPE(table)\n",
    "    \n",
    "#     result = pd.DataFrame(index = [site_code],\n",
    "#                           data={'MAE': mae,\n",
    "#                                 'MSE': mse,\n",
    "#                                 'MAPE': mape,\n",
    "#                                 'MdAPE': mdape,\n",
    "#                                })   \n",
    "#     base_results.append(result)\n",
    "# base_results = pd.concat(base_results)"
   ]
  },
  {
   "cell_type": "code",
   "execution_count": 15,
   "metadata": {},
   "outputs": [],
   "source": [
    "# results_ = base_results.sort_values('MAPE').loc[:, ['MAE', 'MSE', 'MAPE', 'MdAPE']]\n",
    "# results_ = results_.iloc[[0, 1, 2, -3, -2, -1], :]\n",
    "\n",
    "# results_.MAPE = (results_.MAPE * 100).round(2).astype(str).apply(lambda x: x + '%')\n",
    "# results_.MdAPE = (results_.MdAPE * 100).round(2).astype(str).apply(lambda x: x + '%')\n",
    "\n",
    "# print(results_)"
   ]
  },
  {
   "cell_type": "code",
   "execution_count": 16,
   "metadata": {},
   "outputs": [],
   "source": [
    "# print(results_.to_latex())"
   ]
  },
  {
   "cell_type": "code",
   "execution_count": 17,
   "metadata": {},
   "outputs": [],
   "source": [
    "# # rcParams[\"figure.figsize\"] = (12, 7)\n",
    "# # rcParams[\"font.size\"] = (11)\n",
    "\n",
    "\n",
    "# def plot_base_hist(param):\n",
    "#     return sns.distplot(base_results[param])\n",
    "\n",
    "# # plt.suptitle('Baseline metrics distributions', fontsize=20)\n",
    "\n",
    "# plt.subplot(221).xaxis.set_major_formatter(FuncFormatter(lambda x, _: '{:.3f}'.format(x))) \n",
    "# plot_base_hist('MAE')\n",
    "# plt.xlabel(\"Mean Absolute Error\")\n",
    "# plt.ylabel(\"Kernel Density Est.\")\n",
    "\n",
    "# plt.subplot(222).xaxis.set_major_formatter(FuncFormatter(lambda x, _: '{:.3f}'.format(x))) \n",
    "# plot_base_hist('MSE')\n",
    "# plt.xlabel(\"Mean Squared Error\")\n",
    "# plt.ylabel(\"Kernel Density Est.\")   \n",
    "            \n",
    "# plt.subplot(223).xaxis.set_major_formatter(FuncFormatter(lambda x, _: '{:.0%}'.format(x))) \n",
    "# plot_base_hist('MAPE')\n",
    "# plt.xlabel(\"Mean Absolute Percentage Error\")\n",
    "# plt.ylabel(\"Kernel Density Est.\")\n",
    "\n",
    "# plt.subplot(224).xaxis.set_major_formatter(FuncFormatter(lambda x, _: '{:.0%}'.format(x))) \n",
    "# plot_base_hist('MdAPE')\n",
    "# plt.xlabel(\"Median Absolute Percentage Error\")\n",
    "# plt.ylabel(\"Kernel Density Est.\")\n",
    "\n",
    "# save_path = join(PLOT_DIR, f'BASELINE_metrics_distribution__{parameter_name}.png')\n",
    "# plt.savefig(save_path, bbox_inches='tight')"
   ]
  },
  {
   "cell_type": "code",
   "execution_count": 18,
   "metadata": {},
   "outputs": [],
   "source": [
    "# mae = mean_absolute_error(validation_baseline['True'], validation_baseline.Pred)\n",
    "# mse = mean_squared_error(validation_baseline['True'], validation_baseline.Pred)\n",
    "# mape = MAPE(validation_baseline)\n",
    "# mdape = MdAPE(validation_baseline)\n",
    "\n",
    "# mae, mse, mape, mdape"
   ]
  },
  {
   "cell_type": "markdown",
   "metadata": {},
   "source": [
    "# Linear model results"
   ]
  },
  {
   "cell_type": "code",
   "execution_count": 47,
   "metadata": {},
   "outputs": [
    {
     "name": "stdout",
     "output_type": "stream",
     "text": [
      "c:\\users\\filip\\desktop\\deep_aqi\\deep_aqi\\jupyter\\results\\linear_model_baseline__42602__Results__\n"
     ]
    }
   ],
   "source": [
    "file_name = f'linear_model_baseline__{parameter_name}__Results__'\n",
    "file_path = join(ROOT, 'jupyter', 'results', file_name)\n",
    "\n",
    "print(file_path)\n",
    "\n",
    "with open(file_path, 'rb') as f:\n",
    "    lin_results = pickle.Unpickler(f).load() "
   ]
  },
  {
   "cell_type": "code",
   "execution_count": 48,
   "metadata": {},
   "outputs": [
    {
     "name": "stdout",
     "output_type": "stream",
     "text": [
      "                              MAE       MSE     MAPE   MdAPE\n",
      "Maryland_Garrett_2.0     0.034351  0.002704   34.89%  25.29%\n",
      "Missouri_Jackson_42.0    0.065721  0.009674   35.93%  23.68%\n",
      "Michigan_Wayne_94.0      0.061883  0.008968   37.99%  25.49%\n",
      "Colorado_Rio Blanco_6.0  0.050238  0.005936  159.87%  69.77%\n",
      "Nevada_Clark_75.0        0.100628  0.018847   263.1%  62.76%\n",
      "Nevada_Clark_2002.0      0.113759  0.020671  651.36%  56.17%\n"
     ]
    }
   ],
   "source": [
    "results_ = lin_results.sort_values('MAPE').loc[:, ['MAE', 'MSE', 'MAPE', 'MdAPE']]\n",
    "results_ = results_.iloc[[0, 1, 2, -3, -2, -1], :]\n",
    "\n",
    "results_.MAPE = (results_.MAPE * 100).round(2).astype(str).apply(lambda x: x + '%')\n",
    "results_.MdAPE = (results_.MdAPE * 100).round(2).astype(str).apply(lambda x: x + '%')\n",
    "\n",
    "print(results_)"
   ]
  },
  {
   "cell_type": "code",
   "execution_count": 49,
   "metadata": {},
   "outputs": [
    {
     "name": "stdout",
     "output_type": "stream",
     "text": [
      "\\begin{tabular}{lrrll}\n",
      "\\toprule\n",
      "{} &       MAE &       MSE &     MAPE &   MdAPE \\\\\n",
      "\\midrule\n",
      "Maryland\\_Garrett\\_2.0    &  0.034351 &  0.002704 &   34.89\\% &  25.29\\% \\\\\n",
      "Missouri\\_Jackson\\_42.0   &  0.065721 &  0.009674 &   35.93\\% &  23.68\\% \\\\\n",
      "Michigan\\_Wayne\\_94.0     &  0.061883 &  0.008968 &   37.99\\% &  25.49\\% \\\\\n",
      "Colorado\\_Rio Blanco\\_6.0 &  0.050238 &  0.005936 &  159.87\\% &  69.77\\% \\\\\n",
      "Nevada\\_Clark\\_75.0       &  0.100628 &  0.018847 &   263.1\\% &  62.76\\% \\\\\n",
      "Nevada\\_Clark\\_2002.0     &  0.113759 &  0.020671 &  651.36\\% &  56.17\\% \\\\\n",
      "\\bottomrule\n",
      "\\end{tabular}\n",
      "\n"
     ]
    }
   ],
   "source": [
    "print(results_.to_latex())"
   ]
  },
  {
   "cell_type": "code",
   "execution_count": 50,
   "metadata": {},
   "outputs": [
    {
     "data": {
      "image/png": "[encoded data removed]",
      "text/plain": [
       "<Figure size 864x504 with 4 Axes>"
      ]
     },
     "metadata": {
      "needs_background": "light"
     },
     "output_type": "display_data"
    }
   ],
   "source": [
    "rcParams[\"figure.figsize\"] = (12, 7)\n",
    "rcParams[\"font.size\"] = (11)\n",
    "\n",
    "\n",
    "def plot_lin_hist(param):\n",
    "    return sns.distplot(lin_results[param])\n",
    "\n",
    "# plt.suptitle('Validation metrics distributions', fontsize=20)\n",
    "\n",
    "plt.subplot(221).xaxis.set_major_formatter(FuncFormatter(lambda x, _: '{:.3f}'.format(x))) \n",
    "plot_lin_hist('MAE')\n",
    "plt.xlabel(\"Mean Absolute Error\")\n",
    "plt.ylabel(\"Kernel Density Est.\")\n",
    "\n",
    "plt.subplot(222).xaxis.set_major_formatter(FuncFormatter(lambda x, _: '{:.3f}'.format(x))) \n",
    "plot_lin_hist('MSE')\n",
    "plt.xlabel(\"Mean Squared Error\")\n",
    "plt.ylabel(\"Kernel Density Est.\")   \n",
    "\n",
    "plt.subplot(223).xaxis.set_major_formatter(FuncFormatter(lambda x, _: '{:.0%}'.format(x))) \n",
    "plot_lin_hist('MAPE')\n",
    "plt.xlabel(\"Mean Absolute Percentage Error\")\n",
    "plt.ylabel(\"Kernel Density Est.\")\n",
    "\n",
    "plt.subplot(224).xaxis.set_major_formatter(FuncFormatter(lambda x, _: '{:.0%}'.format(x))) \n",
    "plot_lin_hist('MdAPE')\n",
    "plt.xlabel(\"Median Absolute Percentage Error\")\n",
    "plt.ylabel(\"Kernel Density Est.\")\n",
    "\n",
    "save_path = join(PLOT_DIR, f'lin_model-metrics_distribution__{parameter_name}.png')\n",
    "plt.savefig(save_path, bbox_inches='tight')\n",
    "\n"
   ]
  },
  {
   "cell_type": "markdown",
   "metadata": {},
   "source": [
    "# Test set results"
   ]
  },
  {
   "cell_type": "code",
   "execution_count": 38,
   "metadata": {},
   "outputs": [],
   "source": [
    "# file_name = f'gradient_boosting_random__{parameter_name}__Predictions10prc__'\n",
    "# file_path = join(ROOT, 'jupyter', 'results', file_name)\n",
    "\n",
    "# with open(file_path, 'rb') as f:\n",
    "#     predictions10prc = pickle.Unpickler(f).load() \n",
    "\n",
    "\n",
    "# print(best_site)\n",
    "\n",
    "\n",
    "# temp = predictions10prc[best_site]\n",
    "\n",
    "# print(calc_results(temp))\n",
    "\n",
    "# # rcParams[\"figure.figsize\"] = (12, 7)\n",
    "# # rcParams[\"font.size\"] = (11)\n",
    "# rcParams[\"lines.linewidth\"] = 0.5\n",
    "\n",
    "# # plt.suptitle('Test set results', fontsize=20)\n",
    "\n",
    "# ax = sns.lineplot(x=temp.index,\n",
    "#              y=temp['True'],\n",
    "#              label='True values',\n",
    "#              color=sns.color_palette(\"Spectral\", 10)[-1])\n",
    "\n",
    "# ax = sns.lineplot(x=temp.index,\n",
    "#              y=temp['Pred'],\n",
    "#              label='Predicted values',\n",
    "#              color=sns.color_palette(\"Spectral\", 10)[2])\n",
    "\n",
    "# ax.annotate(f'Number of observations: {len(temp)}',\n",
    "#             xy=(1, 0),\n",
    "#             xycoords='axes fraction',\n",
    "#             fontsize=15,\n",
    "#             horizontalalignment='right',\n",
    "#             verticalalignment='bottom')\n",
    "\n",
    "# ax.figure.autofmt_xdate()\n",
    "\n",
    "# plt.xlabel(\"Local Date\")\n",
    "# plt.ylabel(\"Normalized Pollutant Concentration\")\n",
    "\n",
    "# save_path = join(PLOT_DIR, f'Test-set-lineplot__{parameter_name}.png')\n",
    "# plt.savefig(save_path, bbox_inches='tight')"
   ]
  },
  {
   "cell_type": "markdown",
   "metadata": {},
   "source": [
    "# Validation set analysis"
   ]
  },
  {
   "cell_type": "code",
   "execution_count": 24,
   "metadata": {},
   "outputs": [],
   "source": [
    "# file_name = f'gradient_boosting_random__{parameter_name}__Predictions__'\n",
    "# file_path = join(ROOT, 'jupyter', 'results', file_name)\n",
    "\n",
    "# with open(file_path, 'rb') as f:\n",
    "#     predictions = pickle.Unpickler(f).load() \n",
    "\n",
    "# temp = predictions\n",
    "# temp = predictions[best_site]\n",
    "\n",
    "# print(calc_results(temp))\n",
    "\n",
    "# # rcParams[\"figure.figsize\"] = (12, 7)\n",
    "# # rcParams[\"font.size\"] = (11)\n",
    "# rcParams[\"lines.linewidth\"] = 0.5\n",
    "\n",
    "\n",
    "# # plt.suptitle('Validation set results', fontsize=20)\n",
    "\n",
    "# ax = sns.lineplot(x=temp.index,\n",
    "#              y=temp['True'],\n",
    "#              label='True values',\n",
    "#              color=sns.color_palette(\"Spectral\", 10)[-1])\n",
    "\n",
    "# ax = sns.lineplot(x=temp.index,\n",
    "#              y=temp['Pred'],\n",
    "#              label='Predicted values',\n",
    "#              color=sns.color_palette(\"Spectral\", 10)[2])\n",
    "\n",
    "# ax.annotate(f'Number of observations: {len(temp)}',\n",
    "#             xy=(1, 0),\n",
    "#             xycoords='axes fraction',\n",
    "#             fontsize=12,\n",
    "#             horizontalalignment='right',\n",
    "#             verticalalignment='bottom')\n",
    "# ax.figure.autofmt_xdate()\n",
    "\n",
    "# plt.xlabel(\"Local Date\")\n",
    "# plt.ylabel(\"Normalized Pollutant Concentration\")\n",
    "\n",
    "# save_path = join(PLOT_DIR, f'validation-set-lineplot__{parameter_name}.png')\n",
    "# plt.savefig(save_path, bbox_inches='tight')\n",
    "\n"
   ]
  },
  {
   "cell_type": "code",
   "execution_count": null,
   "metadata": {},
   "outputs": [],
   "source": []
  }
 ],
 "metadata": {
  "kernelspec": {
   "display_name": "Python 3",
   "language": "python",
   "name": "python3"
  },
  "language_info": {
   "codemirror_mode": {
    "name": "ipython",
    "version": 3
   },
   "file_extension": ".py",
   "mimetype": "text/x-python",
   "name": "python",
   "nbconvert_exporter": "python",
   "pygments_lexer": "ipython3",
   "version": "3.7.1"
  }
 },
 "nbformat": 4,
 "nbformat_minor": 2
}
