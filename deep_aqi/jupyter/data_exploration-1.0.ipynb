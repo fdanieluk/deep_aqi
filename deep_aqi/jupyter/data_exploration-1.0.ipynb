{
 "cells": [
  {
   "cell_type": "markdown",
   "metadata": {},
   "source": [
    "# Initial data cleaning - Year 2017\n",
    "\n",
    "[Columns explanation](https://aqs.epa.gov/aqsweb/airdata/FileFormats.html#_hourly_data_files)\n",
    "\n",
    "[Data source](https://aqs.epa.gov/aqsweb/airdata/download_files.html#Raw)\n",
    "\n",
    "### Goals:\n",
    "* identify unimportant columns\n",
    "* identify best way to shorten data set, find most densly populated states, counties, sites\n",
    "* create unique identifier for each metering site *SiteCode*\n",
    "* save to parquet\n",
    "\n",
    "### TODO:\n",
    "* save WIND to parquet\n",
    "* do the same for TEMP, PRESS, RH_DP and PM2.5 FRM/FEM Mass, PM2.5 non FRM/FEM Mass, PM10 Mass, PM2.5 Speciation, PM10 Speciation "
   ]
  },
  {
   "cell_type": "code",
   "execution_count": 68,
   "metadata": {},
   "outputs": [],
   "source": [
    "from os.path import join\n",
    "from glob import glob\n",
    "from dask import dataframe as dd\n",
    "from matplotlib import rcParams\n",
    "\n",
    "\n",
    "from deep_aqi import ROOT\n",
    "\n",
    "\n",
    "pd.set_option('max_columns', 50)\n",
    "pd.set_option('max_rows', 25)"
   ]
  },
  {
   "cell_type": "code",
   "execution_count": 2,
   "metadata": {},
   "outputs": [],
   "source": [
    "RAW_DATA = join(ROOT, 'data', 'raw')\n",
    "INTERIM_DATA = join(ROOT, 'data', 'interim')"
   ]
  },
  {
   "cell_type": "code",
   "execution_count": 3,
   "metadata": {},
   "outputs": [
    {
     "data": {
      "text/plain": [
       "['/home/filip/projects/deep_aqi/deep_aqi/data/raw/hourly_WIND_2017.csv',\n",
       " '/home/filip/projects/deep_aqi/deep_aqi/data/raw/hourly_PRESS_2017.csv',\n",
       " '/home/filip/projects/deep_aqi/deep_aqi/data/raw/hourly_88101_2017.csv',\n",
       " '/home/filip/projects/deep_aqi/deep_aqi/data/raw/hourly_TEMP_2017.csv']"
      ]
     },
     "execution_count": 3,
     "metadata": {},
     "output_type": "execute_result"
    }
   ],
   "source": [
    "files = glob(f'{RAW_DATA}/*.csv', recursive=True)\n",
    "files"
   ]
  },
  {
   "cell_type": "markdown",
   "metadata": {},
   "source": [
    "### WIND"
   ]
  },
  {
   "cell_type": "code",
   "execution_count": 4,
   "metadata": {},
   "outputs": [],
   "source": [
    "# there was some inconsistency with 'Qualifier' column\n",
    "data = dd.read_csv(files[0], dtype={'Qualifier': 'object'})"
   ]
  },
  {
   "cell_type": "code",
   "execution_count": 31,
   "metadata": {},
   "outputs": [],
   "source": [
    "rcParams['figure.figsize'] = [20, 10]\n",
    "\n",
    "data['State Name'].value_counts().compute().plot(kind='bar')"
   ]
  },
  {
   "cell_type": "code",
   "execution_count": 64,
   "metadata": {},
   "outputs": [],
   "source": [
    "# Site Num is unique only within county, SiteCode is unique across all counties and states\n",
    "data['SiteCode'] = data['State Name'] + '_' + data['County Name'] + '_' + data['Site Num'].astype(str)"
   ]
  },
  {
   "cell_type": "markdown",
   "metadata": {},
   "source": [
    "## Dropping columns\n",
    "[Columns explanation](https://aqs.epa.gov/aqsweb/airdata/FileFormats.html#_hourly_data_files)\n",
    "\n",
    "Columns dropped:\n",
    "* State Code, County Code - same information as in State Name, County Name\n",
    "* State Name, County Name, Site Num - now all concatenated into SiteCode\n",
    "* Parameter Code - same information as in Parameter Name\n",
    "* Datum - seemingly unimportant\n",
    "* MDL - seemingly unimportant\n",
    "* Uncertainty - seemingly unimportant (mostly empty column)\n",
    "* Qualifier - seemingly unimportant (mostly empty column)\n",
    "* Method Type - seemingly unimportant\n",
    "* Method Code - seemingly unimportant\n",
    "* Date of Last Change - unimportant"
   ]
  },
  {
   "cell_type": "code",
   "execution_count": 65,
   "metadata": {},
   "outputs": [],
   "source": [
    "keep_cols = ['SiteCode', 'State Name', 'County Name', 'Latitude', 'Longitude', 'Date Local',\n",
    "             'Time Local', 'Date GMT', 'Time GMT', 'Parameter Name', 'POC', 'Sample Measurement',\n",
    "             'Units of Measure']"
   ]
  },
  {
   "cell_type": "markdown",
   "metadata": {},
   "source": [
    "### Explanation for number of occurrences per site\n",
    "\n",
    "There are 8756 hours in a year\n",
    "sites with n ~ 17520 have measurements of both wind speed and wind direction\n",
    "sites with n > 17520 have measurements made by multiple instruments - take average value from all instruments for each hour"
   ]
  },
  {
   "cell_type": "code",
   "execution_count": 69,
   "metadata": {},
   "outputs": [
    {
     "data": {
      "text/plain": [
       "SiteCode\n",
       "Missouri_Jefferson_9008       38528\n",
       "Texas_Brewster_101            34620\n",
       "Indiana_Porter_11             29940\n",
       "Michigan_Oakland_11           17520\n",
       "Ohio_Franklin_38              17520\n",
       "Michigan_Washtenaw_8          17520\n",
       "Ohio_Belmont_6                17520\n",
       "Michigan_Muskegon_39          17520\n",
       "California_Riverside_12       17520\n",
       "Michigan_Wayne_33             17520\n",
       "Michigan_Macomb_21            17520\n",
       "Indiana_Vigo_1009             17518\n",
       "                              ...  \n",
       "Washington_Grant_1003          4348\n",
       "Connecticut_Middlesex_9007     4331\n",
       "California_San Diego_1001      4308\n",
       "New Hampshire_Grafton_3002     4270\n",
       "Oregon_Multnomah_2008          4092\n",
       "California_El Dorado_12        3970\n",
       "Texas_Freestone_1084           2968\n",
       "California_Kern_18             2928\n",
       "Texas_Rusk_1082                2900\n",
       "Maryland_Baltimore_1007        2841\n",
       "Virginia_Henrico_14            1606\n",
       "New Hampshire_Belknap_2006     1488\n",
       "Name: Sample Measurement, Length: 770, dtype: int64"
      ]
     },
     "execution_count": 69,
     "metadata": {},
     "output_type": "execute_result"
    }
   ],
   "source": [
    "site_summary = data.groupby(by=['SiteCode'])['Sample Measurement'].agg('count').compute().sort_values(ascending=False)"
   ]
  },
  {
   "cell_type": "code",
   "execution_count": null,
   "metadata": {},
   "outputs": [],
   "source": []
  }
 ],
 "metadata": {
  "kernelspec": {
   "display_name": "deep_aqi",
   "language": "python",
   "name": "deep_aqi"
  },
  "language_info": {
   "codemirror_mode": {
    "name": "ipython",
    "version": 3
   },
   "file_extension": ".py",
   "mimetype": "text/x-python",
   "name": "python",
   "nbconvert_exporter": "python",
   "pygments_lexer": "ipython3",
   "version": "3.6.6"
  }
 },
 "nbformat": 4,
 "nbformat_minor": 2
}
